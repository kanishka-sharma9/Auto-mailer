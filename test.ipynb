{
 "cells": [
  {
   "cell_type": "code",
   "execution_count": 7,
   "metadata": {},
   "outputs": [],
   "source": [
    "from langchain_community.tools.tavily_search import TavilySearchResults\n",
    "import os\n",
    "from dotenv import load_dotenv\n",
    "load_dotenv()\n",
    "os.environ['TAVILY_API_KEY']=os.getenv(\"TAVILY_API_KEY\")\n",
    "os.environ['GROQ_API_KEY']=os.getenv(\"GROQ_API_KEY\")\n",
    "tool=TavilySearchResults()"
   ]
  },
  {
   "cell_type": "code",
   "execution_count": 9,
   "metadata": {},
   "outputs": [
    {
     "data": {
      "text/plain": [
       "[{'url': 'https://www.weatherapi.com/',\n",
       "  'content': \"{'location': {'name': 'Delhi', 'region': 'Delhi', 'country': 'India', 'lat': 28.6667, 'lon': 77.2167, 'tz_id': 'Asia/Kolkata', 'localtime_epoch': 1741751247, 'localtime': '2025-03-12 09:17'}, 'current': {'last_updated_epoch': 1741751100, 'last_updated': '2025-03-12 09:15', 'temp_c': 28.5, 'temp_f': 83.3, 'is_day': 1, 'condition': {'text': 'Partly Cloudy', 'icon': '//cdn.weatherapi.com/weather/64x64/day/116.png', 'code': 1003}, 'wind_mph': 7.6, 'wind_kph': 12.2, 'wind_degree': 291, 'wind_dir': 'WNW', 'pressure_mb': 1011.0, 'pressure_in': 29.84, 'precip_mm': 0.0, 'precip_in': 0.0, 'humidity': 19, 'cloud': 32, 'feelslike_c': 26.5, 'feelslike_f': 79.6, 'windchill_c': 28.5, 'windchill_f': 83.3, 'heatindex_c': 26.5, 'heatindex_f': 79.6, 'dewpoint_c': 2.7, 'dewpoint_f': 36.8, 'vis_km': 10.0, 'vis_miles': 6.0, 'uv': 3.3, 'gust_mph': 8.7, 'gust_kph': 14.1}}\"},\n",
       " {'url': 'https://www.hindustantimes.com/cities/delhi-news/delhi-weather-today-aqi-and-rain-forecast-updates-march-12-2025-101741743003532.html',\n",
       "  'content': \"The temperature in Delhi today, on March 12, 2025, is 32.85 °C. The day's forecast indicates a minimum and maximum temperature of 18.05 °C\"},\n",
       " {'url': 'https://world-weather.info/forecast/india/delhi/march-2025/',\n",
       "  'content': \"Weather in Delhi in March 2025 (Union Territory of Delhi) - Detailed Weather Forecast for a Month Weather World Weather in Delhi Weather in Delhi in March 2025 Delhi Weather Forecast for March 2025 is based on long term prognosis and previous years' statistical data. 1 +93°+84° 2 +93°+84° 3 +95°+86° 4 +79°+84° +79°+63° +81°+63° +81°+64° +81°+64° +81°+64° +81°+64° +82°+66° +81°+66° +82°+66° +82°+66° +84°+68° +86°+68° +86°+68° +88°+70° +88°+70° +90°+72° +88°+70° +90°+72° +90°+73° +90°+72° +90°+72° +91°+73° +91°+72° +93°+73° +93°+75° +93°+75° +93°+77° Extended weather forecast in Delhi HourlyWeek10-Day14-Day30-DayYear Weather in large and nearby cities Weather in New Delhi+82° Panipat+84° Muzaffarnagar+84° Karnāl+84° Aligarh+84° Alwar+82° Mathura+86° Sahāranpur+82° Morādābād+86° Rohtak+84° Meerut+84° Okhla Industrial Development Area+81° Nāngloi Jāt+81° Ghaziabad+82° Noida+82° Faridabad+81° Gurgaon+81° Sonīpat+84° world's temperature today day day\"},\n",
       " {'url': 'https://www.moneycontrol.com/travel/delhi-weather-forecast-for-march-12-2025-warm-and-breezy-day-ahead-article-12962281.html',\n",
       "  'content': 'According to the India Meteorological Department (IMD), the minimum temperature recorded is 17°C, while the maximum is expected to reach 33°C.'},\n",
       " {'url': 'https://www.weather25.com/asia/india/delhi?page=month&month=March',\n",
       "  'content': 'Delhi weather in March 2025 | Delhi 14 day weather Delhi  Delhi Delhi weather in March 2025 The weather in Delhi in March is hot. You can expect a few rainy days in Delhi during March, but usually the weather is comfortable in March. | Delhi in March | | Delhi in May | Temperatures in Delhi in March Weather in Delhi in March - FAQ What is the average temperature in Delhi in March? The average temperature in Delhi in March is 20/33° C. On average, there are 2 rainy days in Delhi during March. The weather in Delhi in March is good. On average, there are 0 snowy days in Delhi in March. More about the weather in Delhi'}]"
      ]
     },
     "execution_count": 9,
     "metadata": {},
     "output_type": "execute_result"
    }
   ],
   "source": [
    "tool.run(\"What is the weather in Delhi,India?\")"
   ]
  },
  {
   "cell_type": "code",
   "execution_count": 5,
   "metadata": {},
   "outputs": [],
   "source": [
    "from src.crew.tools import TavilyTool\n",
    "\n",
    "tool=TavilyTool()\n"
   ]
  },
  {
   "cell_type": "code",
   "execution_count": 6,
   "metadata": {},
   "outputs": [
    {
     "data": {
      "text/plain": [
       "[{'url': 'https://www.weatherapi.com/',\n",
       "  'content': \"{'location': {'name': 'Delhi', 'region': 'Delhi', 'country': 'India', 'lat': 28.6667, 'lon': 77.2167, 'tz_id': 'Asia/Kolkata', 'localtime_epoch': 1741751247, 'localtime': '2025-03-12 09:17'}, 'current': {'last_updated_epoch': 1741751100, 'last_updated': '2025-03-12 09:15', 'temp_c': 28.5, 'temp_f': 83.3, 'is_day': 1, 'condition': {'text': 'Partly Cloudy', 'icon': '//cdn.weatherapi.com/weather/64x64/day/116.png', 'code': 1003}, 'wind_mph': 7.6, 'wind_kph': 12.2, 'wind_degree': 291, 'wind_dir': 'WNW', 'pressure_mb': 1011.0, 'pressure_in': 29.84, 'precip_mm': 0.0, 'precip_in': 0.0, 'humidity': 19, 'cloud': 32, 'feelslike_c': 26.5, 'feelslike_f': 79.6, 'windchill_c': 28.5, 'windchill_f': 83.3, 'heatindex_c': 26.5, 'heatindex_f': 79.6, 'dewpoint_c': 2.7, 'dewpoint_f': 36.8, 'vis_km': 10.0, 'vis_miles': 6.0, 'uv': 3.3, 'gust_mph': 8.7, 'gust_kph': 14.1}}\"},\n",
       " {'url': 'https://www.hindustantimes.com/cities/delhi-news/delhi-weather-today-aqi-and-rain-forecast-updates-march-12-2025-101741743003532.html',\n",
       "  'content': \"The temperature in Delhi today, on March 12, 2025, is 32.85 °C. The day's forecast indicates a minimum and maximum temperature of 18.05 °C\"},\n",
       " {'url': 'https://world-weather.info/forecast/india/delhi/march-2025/',\n",
       "  'content': \"Weather in Delhi in March 2025 (Union Territory of Delhi) - Detailed Weather Forecast for a Month Weather World Weather in Delhi Weather in Delhi in March 2025 Delhi Weather Forecast for March 2025 is based on long term prognosis and previous years' statistical data. 1 +93°+84° 2 +93°+84° 3 +95°+86° 4 +79°+84° +79°+63° +81°+63° +81°+64° +81°+64° +81°+64° +81°+64° +82°+66° +81°+66° +82°+66° +82°+66° +84°+68° +86°+68° +86°+68° +88°+70° +88°+70° +90°+72° +88°+70° +90°+72° +90°+73° +90°+72° +90°+72° +91°+73° +91°+72° +93°+73° +93°+75° +93°+75° +93°+77° Extended weather forecast in Delhi HourlyWeek10-Day14-Day30-DayYear Weather in large and nearby cities Weather in New Delhi+82° Panipat+84° Muzaffarnagar+84° Karnāl+84° Aligarh+84° Alwar+82° Mathura+86° Sahāranpur+82° Morādābād+86° Rohtak+84° Meerut+84° Okhla Industrial Development Area+81° Nāngloi Jāt+81° Ghaziabad+82° Noida+82° Faridabad+81° Gurgaon+81° Sonīpat+84° world's temperature today day day\"},\n",
       " {'url': 'https://www.moneycontrol.com/travel/delhi-weather-forecast-for-march-12-2025-warm-and-breezy-day-ahead-article-12962281.html',\n",
       "  'content': 'According to the India Meteorological Department (IMD), the minimum temperature recorded is 17°C, while the maximum is expected to reach 33°C.'},\n",
       " {'url': 'https://www.weather25.com/asia/india/delhi?page=month&month=March',\n",
       "  'content': 'Delhi weather in March 2025 | Delhi 14 day weather Delhi  Delhi Delhi weather in March 2025 The weather in Delhi in March is hot. You can expect a few rainy days in Delhi during March, but usually the weather is comfortable in March. | Delhi in March | | Delhi in May | Temperatures in Delhi in March Weather in Delhi in March - FAQ What is the average temperature in Delhi in March? The average temperature in Delhi in March is 20/33° C. On average, there are 2 rainy days in Delhi during March. The weather in Delhi in March is good. On average, there are 0 snowy days in Delhi in March. More about the weather in Delhi'}]"
      ]
     },
     "execution_count": 6,
     "metadata": {},
     "output_type": "execute_result"
    }
   ],
   "source": [
    "tool._run(\"What is the weather in Delhi,India?\")"
   ]
  },
  {
   "cell_type": "code",
   "execution_count": 14,
   "metadata": {},
   "outputs": [],
   "source": [
    "from langchain_community.tools.gmail.get_thread import GmailGetThread\n",
    "from langchain_community.agent_toolkits import GmailToolkit\n",
    "from langchain.tools.gmail.search import GmailSearch\n",
    "gmail=GmailToolkit()\n",
    "search=GmailSearch(api_resource=gmail.api_resource)\n",
    "emails=search('after:newer_than:3d')"
   ]
  },
  {
   "cell_type": "code",
   "execution_count": 15,
   "metadata": {},
   "outputs": [
    {
     "data": {
      "text/plain": [
       "[{'id': '1959517356160220',\n",
       "  'threadId': '1959517356160220',\n",
       "  'snippet': 'From AI-driven gameplay with Anichess to the mbAPE_U Cohort 2 applications, Open Campus is expanding partnerships &amp; scaling Web3 education worldwide. From AI-driven gameplay with Anichess to the',\n",
       "  'body': 'From AI-driven gameplay with Anichess to the\\xa0mbAPE_U Cohort 2 applications, Open\\r\\nCampus is expanding partnerships & scaling Web3 education worldwide.\\r\\n\\r\\nFrom AI-driven gameplay with Anichess to the\\xa0mbAPE_U Cohort 2 applications, Open\\r\\nCampus is expanding partnerships and scaling Web3 education worldwide.\\r\\n\\r\\nDive into the latest on EDU Chain, incubator insights, and accelerator\\r\\nbreakthroughs ⤵️\\r\\n\\r\\n\\r\\n🚀 OC HIGHLIGHTS\\r\\n\\r\\n * AI Meets Strategic Gameplay: EDU Chain x Anichess\\r\\n   * We’re bringing AI-enhanced gameplay on-chain, creating immersive\\r\\n     experiences that teach strategic thinking and problem-solving.\\r\\n   * Follow @AnichessGame [https://x.com/AnichessGame] on X to learn more about\\r\\n     this collaboration.\\r\\n * Expanding Web3 Spotlight with Pukecast\\r\\n   * We’re teaming up with Pukecast to highlight more partner projects,\\r\\n     including MBApe_U, and amplify Web3 builders and creators.\\r\\n   * Follow @Pukecast [https://x.com/Pukecast] on X for the latest updates.\\r\\n * Capy Chicas Program: Elevating Women in Web3\\r\\n   * We’re launching Capy Chicas, a new initiative spotlighting women creators,\\r\\n     founders, and innovators across Web3, with a special focus on the Asia and\\r\\n     sub-Asian community.\\r\\n   * Know someone who should be featured? Reach out!\\r\\n   * Follow @CapyFriends [https://x.com/CapyFriends] on X to learn more about\\r\\n     Capy Chicas.\\r\\n * mbAPE_U Cohort 1 Wraps—Cohort 2 Applications Open!\\r\\n   * After weeks of mastering conversations, navigating numbers, and building\\r\\n     with vision, these Cohort 1 Made by Apes creators are ready to take their\\r\\n     MBAs to the next level.\\r\\n   * Marketers, designers, manufacturers—Cohort 2 is coming, apply now!\\r\\n     [https://www.notion.so/1acb1353b9a381fe872bf3f50333f846?pvs=21]\\r\\n * Expanding the Open Campus Partnership Stack\\r\\n   * Our partnership stack has grown significantly, now collaborating with 140+\\r\\n     companies—from bootcamp partners to SaaS providers improving analytics.\\r\\n\\r\\n\\r\\n🌐\\xa0EDU CHAIN CHECK-INS\\r\\n\\r\\n * EDU Chain Unitours: Expanding Web3 in India\\r\\n   * Following Kenya, we wrapped up four more unitours across India for the EDU\\r\\n     Chain Semester 3 Hackathon, introducing student developers to on-chain\\r\\n     education.\\r\\n   * Check out @HackQuest_’s thread on X\\r\\n     [https://x.com/HackQuest_/status/1896274386874986677] for unitour\\r\\n     highlights.\\r\\n * EDU Chain Sponsors Imperial College London AI Hackathon\\r\\n   * EDU Chain is sponsoring the UK AI Agent Hackathon, uniting top student\\r\\n     developers from Imperial, UCL, Cambridge, Oxford, King’s College London,\\r\\n     and City University. Over one month, participants will build, compete, and\\r\\n     innovate—without the pressure of a traditional 48-hour hackathon.\\r\\n * EDU Chain Project Spotlight\\r\\n   * Pody Network now boasts 35K wallets on-chain, marking a major milestone for\\r\\n     Web3 adoption.\\r\\n     * Follow @PodyNetwork [https://x.com/PodyNetwork] on X to learn more about\\r\\n       them.\\r\\n   * SailFish, Blend, and edBank are leading DeFi TVL growth, ranking among the\\r\\n     Top 15 DeFi dApps with the highest TVL increase over the last 30 days, as\\r\\n     highlighted by Smart Liquidity.\\r\\n     * Check out @_SmartLiquidity’s full list of top DeFi dApps\\r\\n       [https://x.com/_SmartLiquidity/status/1894416174726742039].\\r\\n     * Follow these dApps on X: @SailFishFinance\\r\\n       [https://x.com/SailFishFinance], @edbankDao [https://x.com/edbankDao],\\r\\n       @Protocol_Blend [https://x.com/Protocol_Blend].\\r\\n * EDU Chain Nears 70M Transactions\\r\\n   * With 67.7M+ total transactions, 414K wallets, and 2.57M daily transactions,\\r\\n     EDU Chain is scaling at record speed.\\r\\n\\r\\n\\r\\n🔎\\xa0INCUBATOR INSIGHTS\\r\\n\\r\\n * OC-I: Protecting IP & Navigating Legal Risks\\r\\n   * Jamilia Grier (ByteBao) led an OC-I Cohort 2 Workshop on IP protection and\\r\\n     legal considerations, inviting OC-X Cohort 9 to join the discussion. The\\r\\n     session explored smart contract risks, token regulations, and real-world\\r\\n     strategies to help builders protect their dApps and mitigate risks.\\r\\n   * Learn more about the OC-Incubator at\\xa0oci.opencampus.xyz\\r\\n     [http://oci.opencampus.xyz/].\\r\\n\\r\\n\\r\\n⚡️ ACCELERATOR ARCHIVES\\r\\n\\r\\n * OC-X: Incentivizing Learning—The Pros & Cons\\r\\n   * Kara Howard (Si3 Ecosystem) led an OC-X workshop on how strategic rewards\\r\\n     shape educational engagement. Cohort 9 founders explored how Web3\\r\\n     incentives drive engagement while balancing motivation, rewards, and\\r\\n     sustainability.\\r\\n   * Learn more about the OC-Accelerator at\\xa0ocx.opencampus.xyz\\r\\n     [http://ocx.opencampus.xyz/].\\r\\n\\r\\n\\r\\n🔭 SPACES\\r\\n\\r\\n * APE_U Spaces: Telling a Convincing Brand Story\\r\\n   * Building a strong brand in Web3 takes more than just a good idea—it’s about\\r\\n     storytelling, credibility, and avoiding common pitfalls. Jay hosted a deep\\r\\n     dive with Taemin Kim (Frens Chocolates), AllCityBAYC (APE_U Advisor), Amira\\r\\n     Alawi (Sovrun), and MutantsBeer on how to make your brand stand out.\\r\\n   * Listen to the full Space on X.\\r\\n     [https://x.com/opencampus_xyz/status/1897535542260318471]\\r\\n * Hackathon Ideathon 2: What to Build in AI Now\\r\\n   * At EDU Chain Semester 3 Hackathon Ideathon 2, builders explored strategic\\r\\n     AI integration in Web3, featuring insights from Adrian Lai (The Spartan\\r\\n     Labs), Danny (Alpha Network), Adrian (Ddream), Jake Hughes (Open Campus),\\r\\n     and Harry Zhang (HackQuest).\\r\\n   * Catch the discussion on X.\\r\\n     [https://x.com/HackQuest_/status/1899060436223586762]\\r\\n\\r\\nThat’s a wrap!\\r\\n\\r\\nFrom Pukecast’s Web3 spotlight and the launch of Capy Chicas to the\\xa0mbAPE_U\\r\\nCohort 1 Graduation\\xa0Open Campus is creating new opportunities for builders and\\r\\ncreators.\\r\\n\\r\\nStay tuned for more initiatives shaping the future of education on-chain.\\xa0🚀\\r\\n\\r\\nhttps://click.pstmrk.it/3ts/id.opencampus.xyz%2Fhttps%3A%2F%2Fx.com%2Fopencampus_xyzhttps%3A%2F%2Fopencampus-xyz.medium.com%2Fhttps%3A%2F%2Fwww.linkedin.com%2Fcompany%2Fopencampus-xyz/o861/Lv67AQ/AQ/a24a878a-a246-4932-801c-9dd561c89cdc/20/45Z0EIDuPI\\r\\n\\r\\nUnit 417-421, Cyberport 1, 100 Cyberport Road, Pokfulam, Southern, Hong Kong\\r\\n\\r\\nUnsubscribe [https://subscriptions.pstmrk.it/unsubscribe?m=1.tyI5CHWqBC8CyPYvMUh9Lw.aQsAMDVF-WAEdrNeg-6zqLc_WFQWlJ2aEXWiBKtSIYPn67M86lhcrSIpvFW6cosodJBEJrGpyGW4IIe3tDHjABIrvYqZlHlg4V9TKey_BLFccklP_zowfimISueQxTZuoKh5zJNSSt7C3FiKw6MfRYg_xCeFTaMe9kUX8vfxMia6A7PKcQFQy2NQFIqu5ernMiN7hfA00MbVy5UoDQ65K7hJMZjmtjrL5GYoyVRMp3bYSvtkZDb8D0-dyjGDGYYgixEMoX4uN2xO76uU_tc3d38UFoEpqK-IrKMtzArs6RG35LpR7__3eOKl8EOAkp_JLjvvMc9velem-T4XANYljS07PE1uybeF0ZnuhfCGf511joomNR-HmrGgbp-j9ZyVQNM-soa3_uaepJeLm1LlK2Mpnh7DVVhtyT8rpAQA180Ns_KB-UaPmhbi6sQ3_20TDieQ2KGbKdOR2hzO5CPeLF6B5Q1dqYujMr_cbz5c8W75Da-sNtP0yuMXGbEhCguvYckduWmxpXnsw5J7MybZn67wSJUYs-n9YaHaZh_KsMo]Privacy Policy\\r\\n[https://legal.opencampus.xyz/privacy]',\n",
       "  'subject': 'OC Weekly Roundup #37',\n",
       "  'sender': 'Open Campus <gm@mail.opencampus.xyz>',\n",
       "  'from': 'Open Campus <gm@mail.opencampus.xyz>',\n",
       "  'date': 'Fri, 14 Mar 2025 14:37:57 +0000',\n",
       "  'to': 'kanishka.sharma891@gmail.com',\n",
       "  'cc': None}]"
      ]
     },
     "execution_count": 15,
     "metadata": {},
     "output_type": "execute_result"
    }
   ],
   "source": [
    "emails"
   ]
  },
  {
   "cell_type": "code",
   "execution_count": 19,
   "metadata": {},
   "outputs": [
    {
     "data": {
      "text/plain": [
       "[{'id': '1959517356160220',\n",
       "  'threadId': '1959517356160220',\n",
       "  'snippet': 'From AI-driven gameplay with Anichess to the mbAPE_U Cohort 2 applications, Open Campus is expanding partnerships &amp; scaling Web3 education worldwide. From AI-driven gameplay with Anichess to the',\n",
       "  'body': 'From AI-driven gameplay with Anichess to the\\xa0mbAPE_U Cohort 2 applications, Open\\r\\nCampus is expanding partnerships & scaling Web3 education worldwide.\\r\\n\\r\\nFrom AI-driven gameplay with Anichess to the\\xa0mbAPE_U Cohort 2 applications, Open\\r\\nCampus is expanding partnerships and scaling Web3 education worldwide.\\r\\n\\r\\nDive into the latest on EDU Chain, incubator insights, and accelerator\\r\\nbreakthroughs ⤵️\\r\\n\\r\\n\\r\\n🚀 OC HIGHLIGHTS\\r\\n\\r\\n * AI Meets Strategic Gameplay: EDU Chain x Anichess\\r\\n   * We’re bringing AI-enhanced gameplay on-chain, creating immersive\\r\\n     experiences that teach strategic thinking and problem-solving.\\r\\n   * Follow @AnichessGame [https://x.com/AnichessGame] on X to learn more about\\r\\n     this collaboration.\\r\\n * Expanding Web3 Spotlight with Pukecast\\r\\n   * We’re teaming up with Pukecast to highlight more partner projects,\\r\\n     including MBApe_U, and amplify Web3 builders and creators.\\r\\n   * Follow @Pukecast [https://x.com/Pukecast] on X for the latest updates.\\r\\n * Capy Chicas Program: Elevating Women in Web3\\r\\n   * We’re launching Capy Chicas, a new initiative spotlighting women creators,\\r\\n     founders, and innovators across Web3, with a special focus on the Asia and\\r\\n     sub-Asian community.\\r\\n   * Know someone who should be featured? Reach out!\\r\\n   * Follow @CapyFriends [https://x.com/CapyFriends] on X to learn more about\\r\\n     Capy Chicas.\\r\\n * mbAPE_U Cohort 1 Wraps—Cohort 2 Applications Open!\\r\\n   * After weeks of mastering conversations, navigating numbers, and building\\r\\n     with vision, these Cohort 1 Made by Apes creators are ready to take their\\r\\n     MBAs to the next level.\\r\\n   * Marketers, designers, manufacturers—Cohort 2 is coming, apply now!\\r\\n     [https://www.notion.so/1acb1353b9a381fe872bf3f50333f846?pvs=21]\\r\\n * Expanding the Open Campus Partnership Stack\\r\\n   * Our partnership stack has grown significantly, now collaborating with 140+\\r\\n     companies—from bootcamp partners to SaaS providers improving analytics.\\r\\n\\r\\n\\r\\n🌐\\xa0EDU CHAIN CHECK-INS\\r\\n\\r\\n * EDU Chain Unitours: Expanding Web3 in India\\r\\n   * Following Kenya, we wrapped up four more unitours across India for the EDU\\r\\n     Chain Semester 3 Hackathon, introducing student developers to on-chain\\r\\n     education.\\r\\n   * Check out @HackQuest_’s thread on X\\r\\n     [https://x.com/HackQuest_/status/1896274386874986677] for unitour\\r\\n     highlights.\\r\\n * EDU Chain Sponsors Imperial College London AI Hackathon\\r\\n   * EDU Chain is sponsoring the UK AI Agent Hackathon, uniting top student\\r\\n     developers from Imperial, UCL, Cambridge, Oxford, King’s College London,\\r\\n     and City University. Over one month, participants will build, compete, and\\r\\n     innovate—without the pressure of a traditional 48-hour hackathon.\\r\\n * EDU Chain Project Spotlight\\r\\n   * Pody Network now boasts 35K wallets on-chain, marking a major milestone for\\r\\n     Web3 adoption.\\r\\n     * Follow @PodyNetwork [https://x.com/PodyNetwork] on X to learn more about\\r\\n       them.\\r\\n   * SailFish, Blend, and edBank are leading DeFi TVL growth, ranking among the\\r\\n     Top 15 DeFi dApps with the highest TVL increase over the last 30 days, as\\r\\n     highlighted by Smart Liquidity.\\r\\n     * Check out @_SmartLiquidity’s full list of top DeFi dApps\\r\\n       [https://x.com/_SmartLiquidity/status/1894416174726742039].\\r\\n     * Follow these dApps on X: @SailFishFinance\\r\\n       [https://x.com/SailFishFinance], @edbankDao [https://x.com/edbankDao],\\r\\n       @Protocol_Blend [https://x.com/Protocol_Blend].\\r\\n * EDU Chain Nears 70M Transactions\\r\\n   * With 67.7M+ total transactions, 414K wallets, and 2.57M daily transactions,\\r\\n     EDU Chain is scaling at record speed.\\r\\n\\r\\n\\r\\n🔎\\xa0INCUBATOR INSIGHTS\\r\\n\\r\\n * OC-I: Protecting IP & Navigating Legal Risks\\r\\n   * Jamilia Grier (ByteBao) led an OC-I Cohort 2 Workshop on IP protection and\\r\\n     legal considerations, inviting OC-X Cohort 9 to join the discussion. The\\r\\n     session explored smart contract risks, token regulations, and real-world\\r\\n     strategies to help builders protect their dApps and mitigate risks.\\r\\n   * Learn more about the OC-Incubator at\\xa0oci.opencampus.xyz\\r\\n     [http://oci.opencampus.xyz/].\\r\\n\\r\\n\\r\\n⚡️ ACCELERATOR ARCHIVES\\r\\n\\r\\n * OC-X: Incentivizing Learning—The Pros & Cons\\r\\n   * Kara Howard (Si3 Ecosystem) led an OC-X workshop on how strategic rewards\\r\\n     shape educational engagement. Cohort 9 founders explored how Web3\\r\\n     incentives drive engagement while balancing motivation, rewards, and\\r\\n     sustainability.\\r\\n   * Learn more about the OC-Accelerator at\\xa0ocx.opencampus.xyz\\r\\n     [http://ocx.opencampus.xyz/].\\r\\n\\r\\n\\r\\n🔭 SPACES\\r\\n\\r\\n * APE_U Spaces: Telling a Convincing Brand Story\\r\\n   * Building a strong brand in Web3 takes more than just a good idea—it’s about\\r\\n     storytelling, credibility, and avoiding common pitfalls. Jay hosted a deep\\r\\n     dive with Taemin Kim (Frens Chocolates), AllCityBAYC (APE_U Advisor), Amira\\r\\n     Alawi (Sovrun), and MutantsBeer on how to make your brand stand out.\\r\\n   * Listen to the full Space on X.\\r\\n     [https://x.com/opencampus_xyz/status/1897535542260318471]\\r\\n * Hackathon Ideathon 2: What to Build in AI Now\\r\\n   * At EDU Chain Semester 3 Hackathon Ideathon 2, builders explored strategic\\r\\n     AI integration in Web3, featuring insights from Adrian Lai (The Spartan\\r\\n     Labs), Danny (Alpha Network), Adrian (Ddream), Jake Hughes (Open Campus),\\r\\n     and Harry Zhang (HackQuest).\\r\\n   * Catch the discussion on X.\\r\\n     [https://x.com/HackQuest_/status/1899060436223586762]\\r\\n\\r\\nThat’s a wrap!\\r\\n\\r\\nFrom Pukecast’s Web3 spotlight and the launch of Capy Chicas to the\\xa0mbAPE_U\\r\\nCohort 1 Graduation\\xa0Open Campus is creating new opportunities for builders and\\r\\ncreators.\\r\\n\\r\\nStay tuned for more initiatives shaping the future of education on-chain.\\xa0🚀\\r\\n\\r\\nhttps://click.pstmrk.it/3ts/id.opencampus.xyz%2Fhttps%3A%2F%2Fx.com%2Fopencampus_xyzhttps%3A%2F%2Fopencampus-xyz.medium.com%2Fhttps%3A%2F%2Fwww.linkedin.com%2Fcompany%2Fopencampus-xyz/o861/Lv67AQ/AQ/a24a878a-a246-4932-801c-9dd561c89cdc/20/45Z0EIDuPI\\r\\n\\r\\nUnit 417-421, Cyberport 1, 100 Cyberport Road, Pokfulam, Southern, Hong Kong\\r\\n\\r\\nUnsubscribe [https://subscriptions.pstmrk.it/unsubscribe?m=1.tyI5CHWqBC8CyPYvMUh9Lw.aQsAMDVF-WAEdrNeg-6zqLc_WFQWlJ2aEXWiBKtSIYPn67M86lhcrSIpvFW6cosodJBEJrGpyGW4IIe3tDHjABIrvYqZlHlg4V9TKey_BLFccklP_zowfimISueQxTZuoKh5zJNSSt7C3FiKw6MfRYg_xCeFTaMe9kUX8vfxMia6A7PKcQFQy2NQFIqu5ernMiN7hfA00MbVy5UoDQ65K7hJMZjmtjrL5GYoyVRMp3bYSvtkZDb8D0-dyjGDGYYgixEMoX4uN2xO76uU_tc3d38UFoEpqK-IrKMtzArs6RG35LpR7__3eOKl8EOAkp_JLjvvMc9velem-T4XANYljS07PE1uybeF0ZnuhfCGf511joomNR-HmrGgbp-j9ZyVQNM-soa3_uaepJeLm1LlK2Mpnh7DVVhtyT8rpAQA180Ns_KB-UaPmhbi6sQ3_20TDieQ2KGbKdOR2hzO5CPeLF6B5Q1dqYujMr_cbz5c8W75Da-sNtP0yuMXGbEhCguvYckduWmxpXnsw5J7MybZn67wSJUYs-n9YaHaZh_KsMo]Privacy Policy\\r\\n[https://legal.opencampus.xyz/privacy]',\n",
       "  'subject': 'OC Weekly Roundup #37',\n",
       "  'sender': 'Open Campus <gm@mail.opencampus.xyz>',\n",
       "  'from': 'Open Campus <gm@mail.opencampus.xyz>',\n",
       "  'date': 'Fri, 14 Mar 2025 14:37:57 +0000',\n",
       "  'to': 'kanishka.sharma891@gmail.com',\n",
       "  'cc': None},\n",
       " {'id': '195806aaf487112d',\n",
       "  'threadId': '195806aaf487112d',\n",
       "  'snippet': 'Hey Kanishka! Catch up on the latest trending posts from the community. \\u200c\\u200b\\u200d\\u200e\\u200f\\ufeff \\u200c\\u200b\\u200d\\u200e\\u200f\\ufeff \\u200c\\u200b\\u200d\\u200e\\u200f\\ufeff \\u200c\\u200b\\u200d\\u200e\\u200f\\ufeff \\u200c\\u200b\\u200d\\u200e\\u200f\\ufeff \\u200c\\u200b\\u200d\\u200e\\u200f\\ufeff \\u200c\\u200b\\u200d\\u200e\\u200f\\ufeff \\u200c\\u200b\\u200d\\u200e\\u200f\\ufeff \\u200c\\u200b\\u200d\\u200e\\u200f\\ufeff \\u200c\\u200b\\u200d\\u200e\\u200f\\ufeff \\u200c\\u200b\\u200d\\u200e\\u200f\\ufeff \\u200c\\u200b\\u200d\\u200e\\u200f\\ufeff \\u200c\\u200b\\u200d\\u200e\\u200f\\ufeff \\u200c\\u200b\\u200d\\u200e\\u200f\\ufeff \\u200c\\u200b\\u200d\\u200e\\u200f\\ufeff \\u200c\\u200b\\u200d\\u200e\\u200f\\ufeff \\u200c\\u200b\\u200d\\u200e\\u200f\\ufeff \\u200c\\u200b\\u200d\\u200e\\u200f\\ufeff \\u200c\\u200b\\u200d',\n",
       "  'body': 'Hey Kanishka! Catch up on the latest trending posts from the community.\\xa0\\u200c\\u200b\\u200d\\u200e\\u200f\\ufeff\\xa0\\u200c\\u200b\\u200d\\u200e\\u200f\\ufeff\\xa0\\u200c\\u200b\\u200d\\u200e\\u200f\\ufeff\\xa0\\u200c\\u200b\\u200d\\u200e\\u200f\\ufeff\\xa0\\u200c\\u200b\\u200d\\u200e\\u200f\\ufeff\\xa0\\u200c\\u200b\\u200d\\u200e\\u200f\\ufeff\\xa0\\u200c\\u200b\\u200d\\u200e\\u200f\\ufeff\\xa0\\u200c\\u200b\\u200d\\u200e\\u200f\\ufeff\\xa0\\u200c\\u200b\\u200d\\u200e\\u200f\\ufeff\\xa0\\u200c\\u200b\\u200d\\u200e\\u200f\\ufeff\\xa0\\u200c\\u200b\\u200d\\u200e\\u200f\\ufeff\\xa0\\u200c\\u200b\\u200d\\u200e\\u200f\\ufeff\\xa0\\u200c\\u200b\\u200d\\u200e\\u200f\\ufeff\\xa0\\u200c\\u200b\\u200d\\u200e\\u200f\\ufeff\\xa0\\u200c\\u200b\\u200d\\u200e\\u200f\\ufeff\\xa0\\u200c\\u200b\\u200d\\u200e\\u200f\\ufeff\\xa0\\u200c\\u200b\\u200d\\u200e\\u200f\\ufeff\\xa0\\u200c\\u200b\\u200d\\u200e\\u200f\\ufeff\\xa0\\u200c\\u200b\\u200d\\u200e\\u200f\\ufeff\\xa0\\u200c\\u200b\\u200d\\u200e\\u200f\\ufeff\\xa0\\u200c\\u200b\\u200d\\u200e\\u200f\\ufeff\\xa0\\u200c\\u200b\\u200d\\u200e\\u200f\\ufeff\\xa0\\u200c\\u200b\\u200d\\u200e\\u200f\\ufeff\\xa0\\u200c\\u200b\\u200d\\u200e\\u200f\\ufeff\\xa0\\u200c\\u200b\\u200d\\u200e\\u200f\\ufeff\\xa0\\u200c\\u200b\\u200d\\u200e\\u200f\\ufeff\\xa0\\u200c\\u200b\\u200d\\u200e\\u200f\\ufeff\\xa0\\u200c\\u200b\\u200d\\u200e\\u200f\\ufeff\\xa0\\u200c\\u200b\\u200d\\u200e\\u200f\\ufeff\\xa0\\u200c\\u200b\\u200d\\u200e\\u200f\\ufeff\\xa0\\u200c\\u200b\\u200d\\u200e\\u200f\\ufeff\\xa0\\u200c\\u200b\\u200d\\u200e\\u200f\\ufeff\\xa0\\u200c\\u200b\\u200d\\u200e\\u200f\\ufeff\\xa0\\u200c\\u200b\\u200d\\u200e\\u200f\\ufeff\\xa0\\u200c\\u200b\\u200d\\u200e\\u200f\\ufeff\\xa0\\u200c\\u200b\\u200d\\u200e\\u200f\\ufeff\\xa0\\u200c\\u200b\\u200d\\u200e\\u200f\\ufeff\\xa0\\u200c\\u200b\\u200d\\u200e\\u200f\\ufeff\\xa0\\u200c\\u200b\\u200d\\u200e\\u200f\\ufeff\\xa0\\u200c\\u200b\\u200d\\u200e\\u200f\\ufeff\\xa0\\u200c\\u200b\\u200d\\u200e\\u200f\\ufeff\\xa0\\u200c\\u200b\\u200d\\u200e\\u200f\\ufeff\\xa0\\u200c\\u200b\\u200d\\u200e\\u200f\\ufeff\\xa0\\u200c\\u200b\\u200d\\u200e\\u200f\\ufeff\\xa0\\u200c\\u200b\\u200d\\u200e\\u200f\\ufeff\\xa0\\u200c\\u200b\\u200d\\u200e\\u200f\\ufeff\\xa0\\u200c\\u200b\\u200d\\u200e\\u200f\\ufeff\\xa0\\u200c\\u200b\\u200d\\u200e\\u200f\\ufeff\\xa0\\u200c\\u200b\\u200d\\u200e\\u200f\\ufeff\\xa0\\u200c\\u200b\\u200d\\u200e\\u200f\\ufeff\\xa0\\u200c\\u200b\\u200d\\u200e\\u200f\\ufeff\\xa0\\u200c\\u200b\\u200d\\u200e\\u200f\\ufeff\\xa0\\u200c\\u200b\\u200d\\u200e\\u200f\\ufeff\\xa0\\u200c\\u200b\\u200d\\u200e\\u200f\\ufeff\\xa0\\u200c\\u200b\\u200d\\u200e\\u200f\\ufeff\\xa0\\u200c\\u200b\\u200d\\u200e\\u200f\\ufeff\\xa0\\u200c\\u200b\\u200d\\u200e\\u200f\\ufeff\\xa0\\u200c\\u200b\\u200d\\u200e\\u200f\\ufeff\\xa0\\u200c\\u200b\\u200d\\u200e\\u200f\\ufeff\\xa0\\u200c\\u200b\\u200d\\u200e\\u200f\\ufeff\\xa0\\u200c\\u200b\\u200d\\u200e\\u200f\\ufeff\\xa0\\u200c\\u200b\\u200d\\u200e\\u200f\\ufeff\\xa0\\u200c\\u200b\\u200d\\u200e\\u200f\\ufeff\\xa0\\u200c\\u200b\\u200d\\u200e\\u200f\\ufeff\\xa0\\u200c\\u200b\\u200d\\u200e\\u200f\\ufeff\\xa0\\u200c\\u200b\\u200d\\u200e\\u200f\\ufeff\\xa0\\u200c\\u200b\\u200d\\u200e\\u200f\\ufeff\\xa0\\u200c\\u200b\\u200d\\u200e\\u200f\\ufeff\\xa0\\u200c\\u200b\\u200d\\u200e\\u200f\\ufeff\\xa0\\u200c\\u200b\\u200d\\u200e\\u200f\\ufeff\\xa0\\u200c\\u200b\\u200d\\u200e\\u200f\\ufeff\\xa0\\u200c\\u200b\\u200d\\u200e\\u200f\\ufeff\\xa0\\u200c\\u200b\\u200d\\u200e\\u200f\\ufeff\\xa0\\u200c\\u200b\\u200d\\u200e\\u200f\\ufeff\\xa0\\u200c\\u200b\\u200d\\u200e\\u200f\\ufeff\\xa0\\u200c\\u200b\\u200d\\u200e\\u200f\\ufeff\\xa0\\u200c\\u200b\\u200d\\u200e\\u200f\\ufeff\\xa0\\u200c\\u200b\\u200d\\u200e\\u200f\\ufeff\\xa0\\u200c\\u200b\\u200d\\u200e\\u200f\\ufeffBowl buzzHey Kanishka,Catch up on the latest trending posts from the community.\\n\\nTechnology/IT Consultantsa ManagerAfter 10 years grinding at a Big 4, I finally jumped to a boutique firm. The work-life balance is night and day—I actually have weekends now, and I’m...read more4415 Comments\\n\\nTechnology/IT Consultantsa ConsultantI’ve been in IT consulting for five years, and while my pay has steadily climbed (went from $85k to $140k), I can’t shake the feeling that I’m just...read more293 Comments\\n\\nSAP Consultantsan IT DirectorPls help me rationalize next steps. I’m a career SAP professional - I’d been with my company for 12 years and recently got let go; my most recent role...read more22 CommentsView more postsThis message was sent tokanishka.sharma891@gmail.comPrivacy Policy | Manage Settings | Unsubscribe \\xa0Glassdoor2261 Market Street STE 10389, San Francisco, CA 94114\\xa0Copyright © 2008-2025, Glassdoor LLC. “Glassdoor,” “Worklife Pro,” “Bowls” and logo are proprietary trademarks of Glassdoor LLC.\\n',\n",
       "  'subject': 'After 10 years grinding at a Big 4, I finally jumped to a boutique\\r\\n firm. The...',\n",
       "  'sender': 'Glassdoor Community <noreply@glassdoor.com>',\n",
       "  'from': 'Glassdoor Community <noreply@glassdoor.com>',\n",
       "  'date': 'Mon, 10 Mar 2025 14:17:06 +0000 (UTC)',\n",
       "  'to': 'kanishka.sharma891@gmail.com',\n",
       "  'cc': None},\n",
       " {'id': '1957df2c4ea72350',\n",
       "  'threadId': '1957df2c4ea72350',\n",
       "  'snippet': 'Hi kanishka Sharma, Dive into insightful discussions happening right now on AmbitionBox Communities. Trending Posts Salary Discussions, Hike &amp; Promotions Join fisherwoman · ex - Onething Salary',\n",
       "  'body': '',\n",
       "  'subject': 'Salary negotiation',\n",
       "  'sender': 'AmbitionBox <no-reply@ambitionbox.com>',\n",
       "  'from': 'AmbitionBox <no-reply@ambitionbox.com>',\n",
       "  'date': 'Mon, 10 Mar 2025 08:16:52 +0530 (IST)',\n",
       "  'to': 'kanishka.sharma891@gmail.com',\n",
       "  'cc': None}]"
      ]
     },
     "execution_count": 19,
     "metadata": {},
     "output_type": "execute_result"
    }
   ],
   "source": [
    "resp=search.invoke('after:newer_than:5d')\n",
    "resp"
   ]
  },
  {
   "cell_type": "code",
   "execution_count": 1,
   "metadata": {},
   "outputs": [],
   "source": [
    "from src.crew.tools import GetGmailThreadTool"
   ]
  },
  {
   "cell_type": "code",
   "execution_count": 2,
   "metadata": {},
   "outputs": [],
   "source": [
    "tool=GetGmailThreadTool()"
   ]
  },
  {
   "cell_type": "code",
   "execution_count": 3,
   "metadata": {},
   "outputs": [
    {
     "ename": "UnicodeDecodeError",
     "evalue": "'utf-8' codec can't decode byte 0xa0 in position 14690: invalid start byte",
     "output_type": "error",
     "traceback": [
      "\u001b[1;31m---------------------------------------------------------------------------\u001b[0m",
      "\u001b[1;31mUnicodeDecodeError\u001b[0m                        Traceback (most recent call last)",
      "Cell \u001b[1;32mIn[3], line 1\u001b[0m\n\u001b[1;32m----> 1\u001b[0m \u001b[43mtool\u001b[49m\u001b[38;5;241;43m.\u001b[39;49m\u001b[43m_run\u001b[49m\u001b[43m(\u001b[49m\u001b[43m)\u001b[49m\n",
      "File \u001b[1;32mc:\\Users\\kanis\\LLM\\Langgraph + Crewai\\src\\crew\\tools.py:21\u001b[0m, in \u001b[0;36mGetGmailThreadTool._run\u001b[1;34m(self)\u001b[0m\n\u001b[0;32m     20\u001b[0m \u001b[38;5;28;01mdef\u001b[39;00m \u001b[38;5;21m_run\u001b[39m(\u001b[38;5;28mself\u001b[39m):\n\u001b[1;32m---> 21\u001b[0m     \u001b[38;5;28;01mreturn\u001b[39;00m \u001b[38;5;28;43mself\u001b[39;49m\u001b[38;5;241;43m.\u001b[39;49m\u001b[43msearch\u001b[49m\u001b[38;5;241;43m.\u001b[39;49m\u001b[43minvoke\u001b[49m\u001b[43m(\u001b[49m\u001b[38;5;124;43m\"\u001b[39;49m\u001b[38;5;124;43m\"\u001b[39;49m\u001b[43m)\u001b[49m\n",
      "File \u001b[1;32mc:\\Users\\kanis\\LLM\\Langgraph + Crewai\\venv\\Lib\\site-packages\\langchain_core\\tools\\base.py:509\u001b[0m, in \u001b[0;36mBaseTool.invoke\u001b[1;34m(self, input, config, **kwargs)\u001b[0m\n\u001b[0;32m    502\u001b[0m \u001b[38;5;28;01mdef\u001b[39;00m \u001b[38;5;21minvoke\u001b[39m(\n\u001b[0;32m    503\u001b[0m     \u001b[38;5;28mself\u001b[39m,\n\u001b[0;32m    504\u001b[0m     \u001b[38;5;28minput\u001b[39m: Union[\u001b[38;5;28mstr\u001b[39m, \u001b[38;5;28mdict\u001b[39m, ToolCall],\n\u001b[0;32m    505\u001b[0m     config: Optional[RunnableConfig] \u001b[38;5;241m=\u001b[39m \u001b[38;5;28;01mNone\u001b[39;00m,\n\u001b[0;32m    506\u001b[0m     \u001b[38;5;241m*\u001b[39m\u001b[38;5;241m*\u001b[39mkwargs: Any,\n\u001b[0;32m    507\u001b[0m ) \u001b[38;5;241m-\u001b[39m\u001b[38;5;241m>\u001b[39m Any:\n\u001b[0;32m    508\u001b[0m     tool_input, kwargs \u001b[38;5;241m=\u001b[39m _prep_run_args(\u001b[38;5;28minput\u001b[39m, config, \u001b[38;5;241m*\u001b[39m\u001b[38;5;241m*\u001b[39mkwargs)\n\u001b[1;32m--> 509\u001b[0m     \u001b[38;5;28;01mreturn\u001b[39;00m \u001b[38;5;28;43mself\u001b[39;49m\u001b[38;5;241;43m.\u001b[39;49m\u001b[43mrun\u001b[49m\u001b[43m(\u001b[49m\u001b[43mtool_input\u001b[49m\u001b[43m,\u001b[49m\u001b[43m \u001b[49m\u001b[38;5;241;43m*\u001b[39;49m\u001b[38;5;241;43m*\u001b[39;49m\u001b[43mkwargs\u001b[49m\u001b[43m)\u001b[49m\n",
      "File \u001b[1;32mc:\\Users\\kanis\\LLM\\Langgraph + Crewai\\venv\\Lib\\site-packages\\langchain_core\\tools\\base.py:763\u001b[0m, in \u001b[0;36mBaseTool.run\u001b[1;34m(self, tool_input, verbose, start_color, color, callbacks, tags, metadata, run_name, run_id, config, tool_call_id, **kwargs)\u001b[0m\n\u001b[0;32m    761\u001b[0m \u001b[38;5;28;01mif\u001b[39;00m error_to_raise:\n\u001b[0;32m    762\u001b[0m     run_manager\u001b[38;5;241m.\u001b[39mon_tool_error(error_to_raise)\n\u001b[1;32m--> 763\u001b[0m     \u001b[38;5;28;01mraise\u001b[39;00m error_to_raise\n\u001b[0;32m    764\u001b[0m output \u001b[38;5;241m=\u001b[39m _format_output(content, artifact, tool_call_id, \u001b[38;5;28mself\u001b[39m\u001b[38;5;241m.\u001b[39mname, status)\n\u001b[0;32m    765\u001b[0m run_manager\u001b[38;5;241m.\u001b[39mon_tool_end(output, color\u001b[38;5;241m=\u001b[39mcolor, name\u001b[38;5;241m=\u001b[39m\u001b[38;5;28mself\u001b[39m\u001b[38;5;241m.\u001b[39mname, \u001b[38;5;241m*\u001b[39m\u001b[38;5;241m*\u001b[39mkwargs)\n",
      "File \u001b[1;32mc:\\Users\\kanis\\LLM\\Langgraph + Crewai\\venv\\Lib\\site-packages\\langchain_core\\tools\\base.py:732\u001b[0m, in \u001b[0;36mBaseTool.run\u001b[1;34m(self, tool_input, verbose, start_color, color, callbacks, tags, metadata, run_name, run_id, config, tool_call_id, **kwargs)\u001b[0m\n\u001b[0;32m    730\u001b[0m \u001b[38;5;28;01mif\u001b[39;00m config_param \u001b[38;5;241m:=\u001b[39m _get_runnable_config_param(\u001b[38;5;28mself\u001b[39m\u001b[38;5;241m.\u001b[39m_run):\n\u001b[0;32m    731\u001b[0m     tool_kwargs \u001b[38;5;241m=\u001b[39m tool_kwargs \u001b[38;5;241m|\u001b[39m {config_param: config}\n\u001b[1;32m--> 732\u001b[0m response \u001b[38;5;241m=\u001b[39m \u001b[43mcontext\u001b[49m\u001b[38;5;241;43m.\u001b[39;49m\u001b[43mrun\u001b[49m\u001b[43m(\u001b[49m\u001b[38;5;28;43mself\u001b[39;49m\u001b[38;5;241;43m.\u001b[39;49m\u001b[43m_run\u001b[49m\u001b[43m,\u001b[49m\u001b[43m \u001b[49m\u001b[38;5;241;43m*\u001b[39;49m\u001b[43mtool_args\u001b[49m\u001b[43m,\u001b[49m\u001b[43m \u001b[49m\u001b[38;5;241;43m*\u001b[39;49m\u001b[38;5;241;43m*\u001b[39;49m\u001b[43mtool_kwargs\u001b[49m\u001b[43m)\u001b[49m\n\u001b[0;32m    733\u001b[0m \u001b[38;5;28;01mif\u001b[39;00m \u001b[38;5;28mself\u001b[39m\u001b[38;5;241m.\u001b[39mresponse_format \u001b[38;5;241m==\u001b[39m \u001b[38;5;124m\"\u001b[39m\u001b[38;5;124mcontent_and_artifact\u001b[39m\u001b[38;5;124m\"\u001b[39m:\n\u001b[0;32m    734\u001b[0m     \u001b[38;5;28;01mif\u001b[39;00m \u001b[38;5;129;01mnot\u001b[39;00m \u001b[38;5;28misinstance\u001b[39m(response, \u001b[38;5;28mtuple\u001b[39m) \u001b[38;5;129;01mor\u001b[39;00m \u001b[38;5;28mlen\u001b[39m(response) \u001b[38;5;241m!=\u001b[39m \u001b[38;5;241m2\u001b[39m:\n",
      "File \u001b[1;32mc:\\Users\\kanis\\LLM\\Langgraph + Crewai\\venv\\Lib\\site-packages\\langchain_community\\tools\\gmail\\search.py:147\u001b[0m, in \u001b[0;36mGmailSearch._run\u001b[1;34m(self, query, resource, max_results, run_manager)\u001b[0m\n\u001b[0;32m    145\u001b[0m     \u001b[38;5;28;01mreturn\u001b[39;00m \u001b[38;5;28mself\u001b[39m\u001b[38;5;241m.\u001b[39m_parse_threads(results)\n\u001b[0;32m    146\u001b[0m \u001b[38;5;28;01melif\u001b[39;00m resource \u001b[38;5;241m==\u001b[39m Resource\u001b[38;5;241m.\u001b[39mMESSAGES:\n\u001b[1;32m--> 147\u001b[0m     \u001b[38;5;28;01mreturn\u001b[39;00m \u001b[38;5;28;43mself\u001b[39;49m\u001b[38;5;241;43m.\u001b[39;49m\u001b[43m_parse_messages\u001b[49m\u001b[43m(\u001b[49m\u001b[43mresults\u001b[49m\u001b[43m)\u001b[49m\n\u001b[0;32m    148\u001b[0m \u001b[38;5;28;01melse\u001b[39;00m:\n\u001b[0;32m    149\u001b[0m     \u001b[38;5;28;01mraise\u001b[39;00m \u001b[38;5;167;01mNotImplementedError\u001b[39;00m(\u001b[38;5;124mf\u001b[39m\u001b[38;5;124m\"\u001b[39m\u001b[38;5;124mResource of type \u001b[39m\u001b[38;5;132;01m{\u001b[39;00mresource\u001b[38;5;132;01m}\u001b[39;00m\u001b[38;5;124m not implemented.\u001b[39m\u001b[38;5;124m\"\u001b[39m)\n",
      "File \u001b[1;32mc:\\Users\\kanis\\LLM\\Langgraph + Crewai\\venv\\Lib\\site-packages\\langchain_community\\tools\\gmail\\search.py:109\u001b[0m, in \u001b[0;36mGmailSearch._parse_messages\u001b[1;34m(self, messages)\u001b[0m\n\u001b[0;32m    107\u001b[0m             \u001b[38;5;28;01mbreak\u001b[39;00m\n\u001b[0;32m    108\u001b[0m \u001b[38;5;28;01melse\u001b[39;00m:\n\u001b[1;32m--> 109\u001b[0m     message_body \u001b[38;5;241m=\u001b[39m \u001b[43memail_msg\u001b[49m\u001b[38;5;241;43m.\u001b[39;49m\u001b[43mget_payload\u001b[49m\u001b[43m(\u001b[49m\u001b[43mdecode\u001b[49m\u001b[38;5;241;43m=\u001b[39;49m\u001b[38;5;28;43;01mTrue\u001b[39;49;00m\u001b[43m)\u001b[49m\u001b[38;5;241;43m.\u001b[39;49m\u001b[43mdecode\u001b[49m\u001b[43m(\u001b[49m\u001b[38;5;124;43m\"\u001b[39;49m\u001b[38;5;124;43mutf-8\u001b[39;49m\u001b[38;5;124;43m\"\u001b[39;49m\u001b[43m)\u001b[49m  \u001b[38;5;66;03m# type: ignore[union-attr]\u001b[39;00m\n\u001b[0;32m    111\u001b[0m body \u001b[38;5;241m=\u001b[39m clean_email_body(message_body)\n\u001b[0;32m    113\u001b[0m results\u001b[38;5;241m.\u001b[39mappend(\n\u001b[0;32m    114\u001b[0m     {\n\u001b[0;32m    115\u001b[0m         \u001b[38;5;124m\"\u001b[39m\u001b[38;5;124mid\u001b[39m\u001b[38;5;124m\"\u001b[39m: message[\u001b[38;5;124m\"\u001b[39m\u001b[38;5;124mid\u001b[39m\u001b[38;5;124m\"\u001b[39m],\n\u001b[1;32m   (...)\u001b[0m\n\u001b[0;32m    125\u001b[0m     }\n\u001b[0;32m    126\u001b[0m )\n",
      "\u001b[1;31mUnicodeDecodeError\u001b[0m: 'utf-8' codec can't decode byte 0xa0 in position 14690: invalid start byte"
     ]
    }
   ],
   "source": [
    "tool._run()"
   ]
  },
  {
   "cell_type": "code",
   "execution_count": null,
   "metadata": {},
   "outputs": [],
   "source": []
  }
 ],
 "metadata": {
  "kernelspec": {
   "display_name": "Python 3",
   "language": "python",
   "name": "python3"
  },
  "language_info": {
   "codemirror_mode": {
    "name": "ipython",
    "version": 3
   },
   "file_extension": ".py",
   "mimetype": "text/x-python",
   "name": "python",
   "nbconvert_exporter": "python",
   "pygments_lexer": "ipython3",
   "version": "3.12.0"
  }
 },
 "nbformat": 4,
 "nbformat_minor": 2
}
